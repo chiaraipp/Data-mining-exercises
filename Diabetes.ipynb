{
 "cells": [
  {
   "cell_type": "markdown",
   "id": "bba3e9a8",
   "metadata": {},
   "source": [
    "# DMML exam: 2023-07-26"
   ]
  },
  {
   "cell_type": "markdown",
   "id": "7c8fb6a0",
   "metadata": {},
   "source": [
    "The **objective of the exercise is to predict whether or not a patient has Diabetes (attribute \"Outcome\")**, based on certain information and measurements included in the dataset.\n"
   ]
  },
  {
   "cell_type": "markdown",
   "id": "ac4e3615",
   "metadata": {},
   "source": [
    "- Pregnancies: number of pregnancies the patient has had;\n",
    "- Sex: (M) Male or (F) Female;\n",
    "- Glucose: blood glucose level;\n",
    "- BloodPressure: blood pressure;\n",
    "- SkinThickness: skin thickness;\n",
    "- Insulin: insulin level;\n",
    "- BMI: body mass index;\n",
    "- DiabetesPedigreeFunction: genetic predisposition to diabetes;\n",
    "- Age: age;\n",
    "- Outcome: \n",
    "    - 0: the patient does not have diabetes\n",
    "    - 1: the patient does have diabetes\n",
    "- CalorieIntake: daily caloric intake;\n",
    "- Exercise: whether and when exercise is performed:\n",
    "    - “No” indicates that the patient does not engage in any kind of exercise;\n",
    "    - “Evening” indicates that the patient does exercise mainly in the evening;\n",
    "    - “Morning” indicates that the patient does exercise mainly in the morning;\n",
    "    - “Both” indicates that the patient does exercise both morning and evening;\n",
    "- SleepDuration: hours of sleep per day."
   ]
  },
  {
   "cell_type": "markdown",
   "id": "96c5c6f8",
   "metadata": {},
   "source": [
    "# Instructions summary\n",
    "1. Import the *diabetes.csv* dataset\n",
    "2. Perform an **exploratory analysis**:\n",
    "    - Report and discuss the results of the analysis   \n",
    "3. Perform the required data preprocessing steps:\n",
    "    - Obtain a numeric representation of the categorical variables\n",
    "4. Carry out a **classification analysis** aimed at predicting the **Outcome** value considering the following setting:\n",
    "    - Apply a 10-fold cross-validation procedure on the dataset to identify the most suitable classifier among the following:\n",
    "        - DecisionTree classifier (setting the maximum depth equal to 3)\n",
    "        - KNearestNeighbor classifier (default params)\n",
    "        - RandomForest classifier (default parameters) after rebalancing with RandomOverSampler \n",
    "    - Report and discuss the results, motivating the choice of the most suitable model\n",
    "\n",
    "# Exam Delivery\n",
    "- Save the current file \n",
    "- Click \"**Restart & Run All**\" and check consistency (no error, expected results)\n",
    "- Export using\n",
    "     - \"**File**\" --> \"**Download as**\" --> \"**HTML (.html)**\"\n",
    "- Rename the files as follows and upload in MS Teams Assignment\n",
    "     - HTML: *Surname_Name_StudentNumber.html*\n",
    "     - IPYNB: *Surname_Name_StudentNumber.ipynb* \n",
    "     \n",
    "# Code of conduct\n",
    "- You can consult the course material (notebooks and slides)\n",
    "- You can consult the official documentation of the libraries\n",
    "- Any form of information leakage between candidates is not allowed: if this is ascertained, exam failure is automatic."
   ]
  },
  {
   "cell_type": "markdown",
   "id": "30171bc5",
   "metadata": {},
   "source": [
    "# 1. Import the *diabetes.csv* dataset"
   ]
  },
  {
   "cell_type": "code",
   "execution_count": 1,
   "id": "e24c6b07",
   "metadata": {},
   "outputs": [],
   "source": [
    "# TODO\n",
    "import pandas as pd\n",
    "import numpy as np\n",
    "import matplotlib.pyplot as plt\n",
    "import seaborn as sns\n",
    "from sklearn.impute import SimpleImputer\n",
    "from sklearn.compose import ColumnTransformer\n",
    "from sklearn.decomposition import PCA\n",
    "from sklearn import preprocessing\n",
    "from sklearn.preprocessing import StandardScaler\n",
    "from sklearn.compose import ColumnTransformer\n",
    "from sklearn.preprocessing import OrdinalEncoder\n",
    "from sklearn.preprocessing import OneHotEncoder\n",
    "from collections import Counter\n",
    "from sklearn.feature_selection import SelectFromModel\n",
    "from sklearn.feature_selection import SelectKBest, chi2\n",
    "from sklearn.ensemble import RandomForestClassifier\n",
    "from sklearn.model_selection import train_test_split\n",
    "from sklearn.svm import SVC\n",
    "from sklearn.metrics import precision_score, recall_score, accuracy_score, f1_score, confusion_matrix\n",
    "from sklearn.model_selection import GridSearchCV\n",
    "from sklearn.metrics import roc_curve, auc\n",
    "import matplotlib.pyplot as plt\n",
    "from sklearn.linear_model import LogisticRegression\n",
    "from sklearn.metrics import confusion_matrix, classification_report\n",
    "from sklearn.metrics import roc_curve, auc\n",
    "from sklearn.cluster import KMeans\n",
    "from sklearn.metrics import silhouette_score\n",
    "from sklearn.metrics import jaccard_score\n",
    "from sklearn.cluster import AgglomerativeClustering\n",
    "from sklearn.metrics import pairwise_distances\n",
    "from scipy.spatial.distance import cdist\n",
    "from pandas.plotting import scatter_matrix\n",
    "from imblearn.over_sampling import SMOTE\n",
    "from imblearn.pipeline import Pipeline as ImbPipeline\n",
    "from sklearn.model_selection import StratifiedKFold, cross_val_score\n",
    "from sklearn.model_selection import cross_validate, cross_val_predict\n",
    "from sklearn.metrics import accuracy_score, f1_score, make_scorer\n",
    "from sklearn.metrics import ConfusionMatrixDisplay, confusion_matrix\n",
    "import statsmodels.api as sm\n",
    "import matplotlib.pyplot as plt\n",
    "from scipy.stats import pearsonr\n",
    "from sklearn.neighbors import KNeighborsClassifier\n",
    "from imblearn.over_sampling import RandomOverSampler\n",
    "from sklearn.ensemble import RandomForestClassifier\n",
    "\n",
    "\n",
    "from sklearn.pipeline import Pipeline\n",
    "from sklearn.preprocessing import RobustScaler\n",
    "from sklearn.preprocessing import RobustScaler, OrdinalEncoder, OneHotEncoder\n",
    "from sklearn.svm import SVC\n",
    "from sklearn.preprocessing import FunctionTransformer\n",
    "from sklearn.base import BaseEstimator, TransformerMixin\n",
    "from sklearn.feature_selection import SelectKBest\n",
    "from sklearn.tree import DecisionTreeClassifier"
   ]
  },
  {
   "cell_type": "code",
   "execution_count": 2,
   "id": "ddb92c76",
   "metadata": {},
   "outputs": [
    {
     "data": {
      "text/html": [
       "<div>\n",
       "<style scoped>\n",
       "    .dataframe tbody tr th:only-of-type {\n",
       "        vertical-align: middle;\n",
       "    }\n",
       "\n",
       "    .dataframe tbody tr th {\n",
       "        vertical-align: top;\n",
       "    }\n",
       "\n",
       "    .dataframe thead th {\n",
       "        text-align: right;\n",
       "    }\n",
       "</style>\n",
       "<table border=\"1\" class=\"dataframe\">\n",
       "  <thead>\n",
       "    <tr style=\"text-align: right;\">\n",
       "      <th></th>\n",
       "      <th>Pregnancies</th>\n",
       "      <th>Sex</th>\n",
       "      <th>Glucose</th>\n",
       "      <th>BloodPressure</th>\n",
       "      <th>SkinThickness</th>\n",
       "      <th>Insulin</th>\n",
       "      <th>BMI</th>\n",
       "      <th>DiabetesPedigreeFunction</th>\n",
       "      <th>Age</th>\n",
       "      <th>Outcome</th>\n",
       "      <th>CalorieIntake</th>\n",
       "      <th>Exercise</th>\n",
       "      <th>SleepDuration</th>\n",
       "    </tr>\n",
       "  </thead>\n",
       "  <tbody>\n",
       "    <tr>\n",
       "      <th>0</th>\n",
       "      <td>0</td>\n",
       "      <td>M</td>\n",
       "      <td>148</td>\n",
       "      <td>72</td>\n",
       "      <td>35</td>\n",
       "      <td>0</td>\n",
       "      <td>33.6</td>\n",
       "      <td>0.627</td>\n",
       "      <td>50</td>\n",
       "      <td>1</td>\n",
       "      <td>2508.3</td>\n",
       "      <td>No</td>\n",
       "      <td>6</td>\n",
       "    </tr>\n",
       "    <tr>\n",
       "      <th>1</th>\n",
       "      <td>1</td>\n",
       "      <td>F</td>\n",
       "      <td>85</td>\n",
       "      <td>66</td>\n",
       "      <td>29</td>\n",
       "      <td>0</td>\n",
       "      <td>26.6</td>\n",
       "      <td>0.351</td>\n",
       "      <td>31</td>\n",
       "      <td>0</td>\n",
       "      <td>2760.0</td>\n",
       "      <td>Evening</td>\n",
       "      <td>8</td>\n",
       "    </tr>\n",
       "    <tr>\n",
       "      <th>2</th>\n",
       "      <td>0</td>\n",
       "      <td>M</td>\n",
       "      <td>183</td>\n",
       "      <td>64</td>\n",
       "      <td>0</td>\n",
       "      <td>0</td>\n",
       "      <td>23.3</td>\n",
       "      <td>0.672</td>\n",
       "      <td>32</td>\n",
       "      <td>1</td>\n",
       "      <td>6480.0</td>\n",
       "      <td>Morning</td>\n",
       "      <td>8</td>\n",
       "    </tr>\n",
       "    <tr>\n",
       "      <th>3</th>\n",
       "      <td>1</td>\n",
       "      <td>F</td>\n",
       "      <td>89</td>\n",
       "      <td>66</td>\n",
       "      <td>23</td>\n",
       "      <td>94</td>\n",
       "      <td>28.1</td>\n",
       "      <td>0.167</td>\n",
       "      <td>21</td>\n",
       "      <td>0</td>\n",
       "      <td>NaN</td>\n",
       "      <td>Evening</td>\n",
       "      <td>8</td>\n",
       "    </tr>\n",
       "    <tr>\n",
       "      <th>4</th>\n",
       "      <td>0</td>\n",
       "      <td>M</td>\n",
       "      <td>137</td>\n",
       "      <td>40</td>\n",
       "      <td>35</td>\n",
       "      <td>168</td>\n",
       "      <td>43.1</td>\n",
       "      <td>2.288</td>\n",
       "      <td>33</td>\n",
       "      <td>1</td>\n",
       "      <td>1970.0</td>\n",
       "      <td>No</td>\n",
       "      <td>9</td>\n",
       "    </tr>\n",
       "    <tr>\n",
       "      <th>...</th>\n",
       "      <td>...</td>\n",
       "      <td>...</td>\n",
       "      <td>...</td>\n",
       "      <td>...</td>\n",
       "      <td>...</td>\n",
       "      <td>...</td>\n",
       "      <td>...</td>\n",
       "      <td>...</td>\n",
       "      <td>...</td>\n",
       "      <td>...</td>\n",
       "      <td>...</td>\n",
       "      <td>...</td>\n",
       "      <td>...</td>\n",
       "    </tr>\n",
       "    <tr>\n",
       "      <th>763</th>\n",
       "      <td>3</td>\n",
       "      <td>F</td>\n",
       "      <td>101</td>\n",
       "      <td>76</td>\n",
       "      <td>48</td>\n",
       "      <td>180</td>\n",
       "      <td>32.9</td>\n",
       "      <td>0.171</td>\n",
       "      <td>63</td>\n",
       "      <td>0</td>\n",
       "      <td>2860.0</td>\n",
       "      <td>Morning</td>\n",
       "      <td>6</td>\n",
       "    </tr>\n",
       "    <tr>\n",
       "      <th>764</th>\n",
       "      <td>2</td>\n",
       "      <td>F</td>\n",
       "      <td>122</td>\n",
       "      <td>70</td>\n",
       "      <td>27</td>\n",
       "      <td>0</td>\n",
       "      <td>36.8</td>\n",
       "      <td>0.340</td>\n",
       "      <td>27</td>\n",
       "      <td>0</td>\n",
       "      <td>3320.0</td>\n",
       "      <td>Morning</td>\n",
       "      <td>7</td>\n",
       "    </tr>\n",
       "    <tr>\n",
       "      <th>765</th>\n",
       "      <td>0</td>\n",
       "      <td>M</td>\n",
       "      <td>121</td>\n",
       "      <td>72</td>\n",
       "      <td>23</td>\n",
       "      <td>112</td>\n",
       "      <td>26.2</td>\n",
       "      <td>0.245</td>\n",
       "      <td>30</td>\n",
       "      <td>0</td>\n",
       "      <td>3453.0</td>\n",
       "      <td>Evening</td>\n",
       "      <td>4</td>\n",
       "    </tr>\n",
       "    <tr>\n",
       "      <th>766</th>\n",
       "      <td>1</td>\n",
       "      <td>F</td>\n",
       "      <td>126</td>\n",
       "      <td>60</td>\n",
       "      <td>0</td>\n",
       "      <td>0</td>\n",
       "      <td>30.1</td>\n",
       "      <td>0.349</td>\n",
       "      <td>47</td>\n",
       "      <td>1</td>\n",
       "      <td>8850.0</td>\n",
       "      <td>No</td>\n",
       "      <td>8</td>\n",
       "    </tr>\n",
       "    <tr>\n",
       "      <th>767</th>\n",
       "      <td>1</td>\n",
       "      <td>F</td>\n",
       "      <td>93</td>\n",
       "      <td>70</td>\n",
       "      <td>31</td>\n",
       "      <td>0</td>\n",
       "      <td>30.4</td>\n",
       "      <td>0.315</td>\n",
       "      <td>23</td>\n",
       "      <td>0</td>\n",
       "      <td>2620.0</td>\n",
       "      <td>Both</td>\n",
       "      <td>8</td>\n",
       "    </tr>\n",
       "  </tbody>\n",
       "</table>\n",
       "<p>768 rows × 13 columns</p>\n",
       "</div>"
      ],
      "text/plain": [
       "     Pregnancies Sex  Glucose  BloodPressure  SkinThickness  Insulin   BMI  \\\n",
       "0              0   M      148             72             35        0  33.6   \n",
       "1              1   F       85             66             29        0  26.6   \n",
       "2              0   M      183             64              0        0  23.3   \n",
       "3              1   F       89             66             23       94  28.1   \n",
       "4              0   M      137             40             35      168  43.1   \n",
       "..           ...  ..      ...            ...            ...      ...   ...   \n",
       "763            3   F      101             76             48      180  32.9   \n",
       "764            2   F      122             70             27        0  36.8   \n",
       "765            0   M      121             72             23      112  26.2   \n",
       "766            1   F      126             60              0        0  30.1   \n",
       "767            1   F       93             70             31        0  30.4   \n",
       "\n",
       "     DiabetesPedigreeFunction  Age  Outcome  CalorieIntake Exercise  \\\n",
       "0                       0.627   50        1         2508.3       No   \n",
       "1                       0.351   31        0         2760.0  Evening   \n",
       "2                       0.672   32        1         6480.0  Morning   \n",
       "3                       0.167   21        0            NaN  Evening   \n",
       "4                       2.288   33        1         1970.0       No   \n",
       "..                        ...  ...      ...            ...      ...   \n",
       "763                     0.171   63        0         2860.0  Morning   \n",
       "764                     0.340   27        0         3320.0  Morning   \n",
       "765                     0.245   30        0         3453.0  Evening   \n",
       "766                     0.349   47        1         8850.0       No   \n",
       "767                     0.315   23        0         2620.0     Both   \n",
       "\n",
       "     SleepDuration  \n",
       "0                6  \n",
       "1                8  \n",
       "2                8  \n",
       "3                8  \n",
       "4                9  \n",
       "..             ...  \n",
       "763              6  \n",
       "764              7  \n",
       "765              4  \n",
       "766              8  \n",
       "767              8  \n",
       "\n",
       "[768 rows x 13 columns]"
      ]
     },
     "execution_count": 2,
     "metadata": {},
     "output_type": "execute_result"
    }
   ],
   "source": [
    "df= pd.read_csv('diabetes.csv')\n",
    "df"
   ]
  },
  {
   "cell_type": "code",
   "execution_count": 3,
   "id": "7bf8125c",
   "metadata": {},
   "outputs": [
    {
     "data": {
      "text/plain": [
       "Pregnancies                   int64\n",
       "Sex                          object\n",
       "Glucose                       int64\n",
       "BloodPressure                 int64\n",
       "SkinThickness                 int64\n",
       "Insulin                       int64\n",
       "BMI                         float64\n",
       "DiabetesPedigreeFunction    float64\n",
       "Age                           int64\n",
       "Outcome                       int64\n",
       "CalorieIntake               float64\n",
       "Exercise                     object\n",
       "SleepDuration                 int64\n",
       "dtype: object"
      ]
     },
     "execution_count": 3,
     "metadata": {},
     "output_type": "execute_result"
    }
   ],
   "source": [
    "df.dtypes"
   ]
  },
  {
   "cell_type": "code",
   "execution_count": 4,
   "id": "2a491637",
   "metadata": {},
   "outputs": [
    {
     "data": {
      "text/plain": [
       "(768, 13)"
      ]
     },
     "execution_count": 4,
     "metadata": {},
     "output_type": "execute_result"
    }
   ],
   "source": [
    "df.shape"
   ]
  },
  {
   "cell_type": "markdown",
   "id": "6193b5ee",
   "metadata": {},
   "source": [
    "# 2. Perform an **exploratory analysis**\n",
    "- Report and discuss the results of the analysis.\n",
    "\n"
   ]
  },
  {
   "cell_type": "code",
   "execution_count": 5,
   "id": "ea7f2c69",
   "metadata": {},
   "outputs": [
    {
     "name": "stdout",
     "output_type": "stream",
     "text": [
      "<class 'pandas.core.frame.DataFrame'>\n",
      "RangeIndex: 768 entries, 0 to 767\n",
      "Data columns (total 13 columns):\n",
      " #   Column                    Non-Null Count  Dtype  \n",
      "---  ------                    --------------  -----  \n",
      " 0   Pregnancies               768 non-null    int64  \n",
      " 1   Sex                       768 non-null    object \n",
      " 2   Glucose                   768 non-null    int64  \n",
      " 3   BloodPressure             768 non-null    int64  \n",
      " 4   SkinThickness             768 non-null    int64  \n",
      " 5   Insulin                   768 non-null    int64  \n",
      " 6   BMI                       768 non-null    float64\n",
      " 7   DiabetesPedigreeFunction  768 non-null    float64\n",
      " 8   Age                       768 non-null    int64  \n",
      " 9   Outcome                   768 non-null    int64  \n",
      " 10  CalorieIntake             753 non-null    float64\n",
      " 11  Exercise                  768 non-null    object \n",
      " 12  SleepDuration             768 non-null    int64  \n",
      "dtypes: float64(3), int64(8), object(2)\n",
      "memory usage: 78.1+ KB\n"
     ]
    }
   ],
   "source": [
    "# TODO\n",
    "df.info()"
   ]
  },
  {
   "cell_type": "code",
   "execution_count": 6,
   "id": "9bf6e3f4",
   "metadata": {},
   "outputs": [
    {
     "data": {
      "text/plain": [
       "Pregnancies                 False\n",
       "Sex                         False\n",
       "Glucose                     False\n",
       "BloodPressure               False\n",
       "SkinThickness               False\n",
       "Insulin                     False\n",
       "BMI                         False\n",
       "DiabetesPedigreeFunction    False\n",
       "Age                         False\n",
       "Outcome                     False\n",
       "CalorieIntake                True\n",
       "Exercise                    False\n",
       "SleepDuration               False\n",
       "dtype: bool"
      ]
     },
     "execution_count": 6,
     "metadata": {},
     "output_type": "execute_result"
    }
   ],
   "source": [
    "df.isna().any()"
   ]
  },
  {
   "cell_type": "code",
   "execution_count": 7,
   "id": "891c5e98",
   "metadata": {
    "scrolled": true
   },
   "outputs": [
    {
     "data": {
      "text/plain": [
       "Pregnancies                  0\n",
       "Sex                          0\n",
       "Glucose                      0\n",
       "BloodPressure                0\n",
       "SkinThickness                0\n",
       "Insulin                      0\n",
       "BMI                          0\n",
       "DiabetesPedigreeFunction     0\n",
       "Age                          0\n",
       "Outcome                      0\n",
       "CalorieIntake               15\n",
       "Exercise                     0\n",
       "SleepDuration                0\n",
       "dtype: int64"
      ]
     },
     "execution_count": 7,
     "metadata": {},
     "output_type": "execute_result"
    }
   ],
   "source": [
    "df.isna().sum(axis=0)"
   ]
  },
  {
   "cell_type": "code",
   "execution_count": 8,
   "id": "770b6708",
   "metadata": {},
   "outputs": [
    {
     "data": {
      "text/plain": [
       "3639.5953519256304"
      ]
     },
     "execution_count": 8,
     "metadata": {},
     "output_type": "execute_result"
    }
   ],
   "source": [
    "df['CalorieIntake'].mean()"
   ]
  },
  {
   "cell_type": "code",
   "execution_count": 9,
   "id": "ca50ada9",
   "metadata": {},
   "outputs": [
    {
     "data": {
      "text/plain": [
       "count     753.000000\n",
       "mean     3639.595352\n",
       "std      1694.490299\n",
       "min       380.000000\n",
       "25%      2620.000000\n",
       "50%      2893.000000\n",
       "75%      4100.000000\n",
       "max      9990.000000\n",
       "Name: CalorieIntake, dtype: float64"
      ]
     },
     "execution_count": 9,
     "metadata": {},
     "output_type": "execute_result"
    }
   ],
   "source": [
    "df['CalorieIntake'].describe()"
   ]
  },
  {
   "cell_type": "code",
   "execution_count": 10,
   "id": "d779baec",
   "metadata": {},
   "outputs": [],
   "source": [
    "df['CalorieIntake'].fillna(df['CalorieIntake'].mean(), inplace=True)"
   ]
  },
  {
   "cell_type": "code",
   "execution_count": 11,
   "id": "788c724f",
   "metadata": {},
   "outputs": [
    {
     "data": {
      "text/plain": [
       "False"
      ]
     },
     "execution_count": 11,
     "metadata": {},
     "output_type": "execute_result"
    }
   ],
   "source": [
    "df.isna().values.any()"
   ]
  },
  {
   "cell_type": "code",
   "execution_count": 12,
   "id": "f73319a9",
   "metadata": {},
   "outputs": [
    {
     "data": {
      "text/plain": [
       "Pregnancies                 0\n",
       "Sex                         0\n",
       "Glucose                     0\n",
       "BloodPressure               0\n",
       "SkinThickness               0\n",
       "Insulin                     0\n",
       "BMI                         0\n",
       "DiabetesPedigreeFunction    0\n",
       "Age                         0\n",
       "Outcome                     0\n",
       "CalorieIntake               0\n",
       "Exercise                    0\n",
       "SleepDuration               0\n",
       "dtype: int64"
      ]
     },
     "execution_count": 12,
     "metadata": {},
     "output_type": "execute_result"
    }
   ],
   "source": [
    "df.isna().sum(axis=0)"
   ]
  },
  {
   "cell_type": "code",
   "execution_count": 13,
   "id": "b1fca534",
   "metadata": {},
   "outputs": [
    {
     "data": {
      "text/html": [
       "<div>\n",
       "<style scoped>\n",
       "    .dataframe tbody tr th:only-of-type {\n",
       "        vertical-align: middle;\n",
       "    }\n",
       "\n",
       "    .dataframe tbody tr th {\n",
       "        vertical-align: top;\n",
       "    }\n",
       "\n",
       "    .dataframe thead th {\n",
       "        text-align: right;\n",
       "    }\n",
       "</style>\n",
       "<table border=\"1\" class=\"dataframe\">\n",
       "  <thead>\n",
       "    <tr style=\"text-align: right;\">\n",
       "      <th></th>\n",
       "      <th>Sex</th>\n",
       "      <th>Exercise</th>\n",
       "    </tr>\n",
       "  </thead>\n",
       "  <tbody>\n",
       "    <tr>\n",
       "      <th>count</th>\n",
       "      <td>768</td>\n",
       "      <td>768</td>\n",
       "    </tr>\n",
       "    <tr>\n",
       "      <th>unique</th>\n",
       "      <td>2</td>\n",
       "      <td>4</td>\n",
       "    </tr>\n",
       "    <tr>\n",
       "      <th>top</th>\n",
       "      <td>F</td>\n",
       "      <td>Morning</td>\n",
       "    </tr>\n",
       "    <tr>\n",
       "      <th>freq</th>\n",
       "      <td>525</td>\n",
       "      <td>276</td>\n",
       "    </tr>\n",
       "  </tbody>\n",
       "</table>\n",
       "</div>"
      ],
      "text/plain": [
       "        Sex Exercise\n",
       "count   768      768\n",
       "unique    2        4\n",
       "top       F  Morning\n",
       "freq    525      276"
      ]
     },
     "execution_count": 13,
     "metadata": {},
     "output_type": "execute_result"
    }
   ],
   "source": [
    "df.describe(include='object')"
   ]
  },
  {
   "cell_type": "code",
   "execution_count": 14,
   "id": "338e366d",
   "metadata": {},
   "outputs": [
    {
     "data": {
      "text/plain": [
       "dtype('O')"
      ]
     },
     "execution_count": 14,
     "metadata": {},
     "output_type": "execute_result"
    }
   ],
   "source": [
    "df.Exercise.dtypes"
   ]
  },
  {
   "cell_type": "code",
   "execution_count": 15,
   "id": "05bc271d",
   "metadata": {},
   "outputs": [],
   "source": [
    "nominal=['Sex', 'Exercise']\n",
    "numerical=list((set(df)- set(nominal))-set(['Outcome']))"
   ]
  },
  {
   "cell_type": "code",
   "execution_count": 16,
   "id": "c25b8591",
   "metadata": {},
   "outputs": [
    {
     "data": {
      "text/plain": [
       "['SkinThickness',\n",
       " 'Glucose',\n",
       " 'Pregnancies',\n",
       " 'Insulin',\n",
       " 'DiabetesPedigreeFunction',\n",
       " 'CalorieIntake',\n",
       " 'BMI',\n",
       " 'BloodPressure',\n",
       " 'SleepDuration',\n",
       " 'Age']"
      ]
     },
     "execution_count": 16,
     "metadata": {},
     "output_type": "execute_result"
    }
   ],
   "source": [
    "numerical"
   ]
  },
  {
   "cell_type": "code",
   "execution_count": 17,
   "id": "90193a11",
   "metadata": {},
   "outputs": [
    {
     "data": {
      "text/html": [
       "<div>\n",
       "<style scoped>\n",
       "    .dataframe tbody tr th:only-of-type {\n",
       "        vertical-align: middle;\n",
       "    }\n",
       "\n",
       "    .dataframe tbody tr th {\n",
       "        vertical-align: top;\n",
       "    }\n",
       "\n",
       "    .dataframe thead th {\n",
       "        text-align: right;\n",
       "    }\n",
       "</style>\n",
       "<table border=\"1\" class=\"dataframe\">\n",
       "  <thead>\n",
       "    <tr style=\"text-align: right;\">\n",
       "      <th></th>\n",
       "      <th>SkinThickness</th>\n",
       "      <th>Glucose</th>\n",
       "      <th>Pregnancies</th>\n",
       "      <th>Insulin</th>\n",
       "      <th>DiabetesPedigreeFunction</th>\n",
       "      <th>CalorieIntake</th>\n",
       "      <th>BMI</th>\n",
       "      <th>BloodPressure</th>\n",
       "      <th>SleepDuration</th>\n",
       "      <th>Age</th>\n",
       "    </tr>\n",
       "  </thead>\n",
       "  <tbody>\n",
       "    <tr>\n",
       "      <th>SkinThickness</th>\n",
       "      <td>1.000000</td>\n",
       "      <td>0.057328</td>\n",
       "      <td>-0.033670</td>\n",
       "      <td>0.436783</td>\n",
       "      <td>0.183928</td>\n",
       "      <td>0.034200</td>\n",
       "      <td>0.392573</td>\n",
       "      <td>0.207371</td>\n",
       "      <td>0.079192</td>\n",
       "      <td>-0.113970</td>\n",
       "    </tr>\n",
       "    <tr>\n",
       "      <th>Glucose</th>\n",
       "      <td>0.057328</td>\n",
       "      <td>1.000000</td>\n",
       "      <td>-0.001736</td>\n",
       "      <td>0.331357</td>\n",
       "      <td>0.137337</td>\n",
       "      <td>0.335336</td>\n",
       "      <td>0.221071</td>\n",
       "      <td>0.152590</td>\n",
       "      <td>0.170151</td>\n",
       "      <td>0.263514</td>\n",
       "    </tr>\n",
       "    <tr>\n",
       "      <th>Pregnancies</th>\n",
       "      <td>-0.033670</td>\n",
       "      <td>-0.001736</td>\n",
       "      <td>1.000000</td>\n",
       "      <td>-0.023243</td>\n",
       "      <td>-0.015277</td>\n",
       "      <td>0.015058</td>\n",
       "      <td>-0.042273</td>\n",
       "      <td>-0.011220</td>\n",
       "      <td>0.156936</td>\n",
       "      <td>-0.000442</td>\n",
       "    </tr>\n",
       "    <tr>\n",
       "      <th>Insulin</th>\n",
       "      <td>0.436783</td>\n",
       "      <td>0.331357</td>\n",
       "      <td>-0.023243</td>\n",
       "      <td>1.000000</td>\n",
       "      <td>0.185071</td>\n",
       "      <td>0.107934</td>\n",
       "      <td>0.197859</td>\n",
       "      <td>0.088933</td>\n",
       "      <td>0.052830</td>\n",
       "      <td>-0.042163</td>\n",
       "    </tr>\n",
       "    <tr>\n",
       "      <th>DiabetesPedigreeFunction</th>\n",
       "      <td>0.183928</td>\n",
       "      <td>0.137337</td>\n",
       "      <td>-0.015277</td>\n",
       "      <td>0.185071</td>\n",
       "      <td>1.000000</td>\n",
       "      <td>0.109421</td>\n",
       "      <td>0.140647</td>\n",
       "      <td>0.041265</td>\n",
       "      <td>0.150755</td>\n",
       "      <td>0.033561</td>\n",
       "    </tr>\n",
       "    <tr>\n",
       "      <th>CalorieIntake</th>\n",
       "      <td>0.034200</td>\n",
       "      <td>0.335336</td>\n",
       "      <td>0.015058</td>\n",
       "      <td>0.107934</td>\n",
       "      <td>0.109421</td>\n",
       "      <td>1.000000</td>\n",
       "      <td>0.181753</td>\n",
       "      <td>-0.038191</td>\n",
       "      <td>0.318369</td>\n",
       "      <td>0.130654</td>\n",
       "    </tr>\n",
       "    <tr>\n",
       "      <th>BMI</th>\n",
       "      <td>0.392573</td>\n",
       "      <td>0.221071</td>\n",
       "      <td>-0.042273</td>\n",
       "      <td>0.197859</td>\n",
       "      <td>0.140647</td>\n",
       "      <td>0.181753</td>\n",
       "      <td>1.000000</td>\n",
       "      <td>0.281805</td>\n",
       "      <td>0.156188</td>\n",
       "      <td>0.036242</td>\n",
       "    </tr>\n",
       "    <tr>\n",
       "      <th>BloodPressure</th>\n",
       "      <td>0.207371</td>\n",
       "      <td>0.152590</td>\n",
       "      <td>-0.011220</td>\n",
       "      <td>0.088933</td>\n",
       "      <td>0.041265</td>\n",
       "      <td>-0.038191</td>\n",
       "      <td>0.281805</td>\n",
       "      <td>1.000000</td>\n",
       "      <td>-0.023178</td>\n",
       "      <td>0.239528</td>\n",
       "    </tr>\n",
       "    <tr>\n",
       "      <th>SleepDuration</th>\n",
       "      <td>0.079192</td>\n",
       "      <td>0.170151</td>\n",
       "      <td>0.156936</td>\n",
       "      <td>0.052830</td>\n",
       "      <td>0.150755</td>\n",
       "      <td>0.318369</td>\n",
       "      <td>0.156188</td>\n",
       "      <td>-0.023178</td>\n",
       "      <td>1.000000</td>\n",
       "      <td>0.099983</td>\n",
       "    </tr>\n",
       "    <tr>\n",
       "      <th>Age</th>\n",
       "      <td>-0.113970</td>\n",
       "      <td>0.263514</td>\n",
       "      <td>-0.000442</td>\n",
       "      <td>-0.042163</td>\n",
       "      <td>0.033561</td>\n",
       "      <td>0.130654</td>\n",
       "      <td>0.036242</td>\n",
       "      <td>0.239528</td>\n",
       "      <td>0.099983</td>\n",
       "      <td>1.000000</td>\n",
       "    </tr>\n",
       "  </tbody>\n",
       "</table>\n",
       "</div>"
      ],
      "text/plain": [
       "                          SkinThickness   Glucose  Pregnancies   Insulin  \\\n",
       "SkinThickness                  1.000000  0.057328    -0.033670  0.436783   \n",
       "Glucose                        0.057328  1.000000    -0.001736  0.331357   \n",
       "Pregnancies                   -0.033670 -0.001736     1.000000 -0.023243   \n",
       "Insulin                        0.436783  0.331357    -0.023243  1.000000   \n",
       "DiabetesPedigreeFunction       0.183928  0.137337    -0.015277  0.185071   \n",
       "CalorieIntake                  0.034200  0.335336     0.015058  0.107934   \n",
       "BMI                            0.392573  0.221071    -0.042273  0.197859   \n",
       "BloodPressure                  0.207371  0.152590    -0.011220  0.088933   \n",
       "SleepDuration                  0.079192  0.170151     0.156936  0.052830   \n",
       "Age                           -0.113970  0.263514    -0.000442 -0.042163   \n",
       "\n",
       "                          DiabetesPedigreeFunction  CalorieIntake       BMI  \\\n",
       "SkinThickness                             0.183928       0.034200  0.392573   \n",
       "Glucose                                   0.137337       0.335336  0.221071   \n",
       "Pregnancies                              -0.015277       0.015058 -0.042273   \n",
       "Insulin                                   0.185071       0.107934  0.197859   \n",
       "DiabetesPedigreeFunction                  1.000000       0.109421  0.140647   \n",
       "CalorieIntake                             0.109421       1.000000  0.181753   \n",
       "BMI                                       0.140647       0.181753  1.000000   \n",
       "BloodPressure                             0.041265      -0.038191  0.281805   \n",
       "SleepDuration                             0.150755       0.318369  0.156188   \n",
       "Age                                       0.033561       0.130654  0.036242   \n",
       "\n",
       "                          BloodPressure  SleepDuration       Age  \n",
       "SkinThickness                  0.207371       0.079192 -0.113970  \n",
       "Glucose                        0.152590       0.170151  0.263514  \n",
       "Pregnancies                   -0.011220       0.156936 -0.000442  \n",
       "Insulin                        0.088933       0.052830 -0.042163  \n",
       "DiabetesPedigreeFunction       0.041265       0.150755  0.033561  \n",
       "CalorieIntake                 -0.038191       0.318369  0.130654  \n",
       "BMI                            0.281805       0.156188  0.036242  \n",
       "BloodPressure                  1.000000      -0.023178  0.239528  \n",
       "SleepDuration                 -0.023178       1.000000  0.099983  \n",
       "Age                            0.239528       0.099983  1.000000  "
      ]
     },
     "execution_count": 17,
     "metadata": {},
     "output_type": "execute_result"
    }
   ],
   "source": [
    "df[numerical].corr()"
   ]
  },
  {
   "cell_type": "code",
   "execution_count": 18,
   "id": "7d64d339",
   "metadata": {},
   "outputs": [
    {
     "data": {
      "text/plain": [
       "<Axes: >"
      ]
     },
     "execution_count": 18,
     "metadata": {},
     "output_type": "execute_result"
    },
    {
     "data": {
      "image/png": "[encoded data removed]",
      "text/plain": [
       "<Figure size 800x600 with 2 Axes>"
      ]
     },
     "metadata": {},
     "output_type": "display_data"
    }
   ],
   "source": [
    "plt.figure(figsize= (8, 6))\n",
    "sns.heatmap(df[numerical].corr(), annot = True, vmin=-1, vmax=1,cmap = \"coolwarm\")"
   ]
  },
  {
   "cell_type": "markdown",
   "id": "e2ba1473",
   "metadata": {},
   "source": [
    "All the features seem to be incorrelated, so we cannot drop any of them."
   ]
  },
  {
   "cell_type": "code",
   "execution_count": 19,
   "id": "42abf92e",
   "metadata": {},
   "outputs": [
    {
     "data": {
      "image/png": "[encoded data removed]",
      "text/plain": [
       "<Figure size 800x400 with 10 Axes>"
      ]
     },
     "metadata": {},
     "output_type": "display_data"
    }
   ],
   "source": [
    "df[numerical].plot(kind='hist',\n",
    "                  alpha=0.6,\n",
    "                  grid=True,\n",
    "                  subplots=True,\n",
    "                  figsize=(8,4),\n",
    "                  layout=(2,5))\n",
    "plt.show()"
   ]
  },
  {
   "cell_type": "code",
   "execution_count": 20,
   "id": "76367cd1",
   "metadata": {},
   "outputs": [
    {
     "data": {
      "image/png": "[encoded data removed]",
      "text/plain": [
       "<Figure size 640x480 with 1 Axes>"
      ]
     },
     "metadata": {},
     "output_type": "display_data"
    }
   ],
   "source": [
    "df['Outcome'].value_counts().plot.pie()\n",
    "plt.show()"
   ]
  },
  {
   "cell_type": "code",
   "execution_count": 21,
   "id": "349bee32",
   "metadata": {},
   "outputs": [
    {
     "data": {
      "text/plain": [
       "<Axes: xlabel='Outcome', ylabel='Count'>"
      ]
     },
     "execution_count": 21,
     "metadata": {},
     "output_type": "execute_result"
    },
    {
     "data": {
      "image/png": "[encoded data removed]",
      "text/plain": [
       "<Figure size 640x480 with 1 Axes>"
      ]
     },
     "metadata": {},
     "output_type": "display_data"
    }
   ],
   "source": [
    "sns.histplot(data=df, x='Outcome', hue='Outcome')"
   ]
  },
  {
   "cell_type": "code",
   "execution_count": 22,
   "id": "cedbeb21",
   "metadata": {},
   "outputs": [
    {
     "data": {
      "text/plain": [
       "Outcome\n",
       "0    500\n",
       "1    268\n",
       "Name: count, dtype: int64"
      ]
     },
     "execution_count": 22,
     "metadata": {},
     "output_type": "execute_result"
    }
   ],
   "source": [
    "df['Outcome'].value_counts()"
   ]
  },
  {
   "cell_type": "markdown",
   "id": "b7063303",
   "metadata": {},
   "source": [
    "# 3. Perform the required data preprocessing steps \n",
    "- Obtain a numeric representation of the categorical variables.\n"
   ]
  },
  {
   "cell_type": "code",
   "execution_count": 23,
   "id": "47a06912",
   "metadata": {
    "scrolled": true
   },
   "outputs": [
    {
     "data": {
      "text/html": [
       "<div>\n",
       "<style scoped>\n",
       "    .dataframe tbody tr th:only-of-type {\n",
       "        vertical-align: middle;\n",
       "    }\n",
       "\n",
       "    .dataframe tbody tr th {\n",
       "        vertical-align: top;\n",
       "    }\n",
       "\n",
       "    .dataframe thead th {\n",
       "        text-align: right;\n",
       "    }\n",
       "</style>\n",
       "<table border=\"1\" class=\"dataframe\">\n",
       "  <thead>\n",
       "    <tr style=\"text-align: right;\">\n",
       "      <th></th>\n",
       "      <th>Sex</th>\n",
       "      <th>Exercise</th>\n",
       "    </tr>\n",
       "  </thead>\n",
       "  <tbody>\n",
       "    <tr>\n",
       "      <th>0</th>\n",
       "      <td>M</td>\n",
       "      <td>No</td>\n",
       "    </tr>\n",
       "    <tr>\n",
       "      <th>1</th>\n",
       "      <td>F</td>\n",
       "      <td>Evening</td>\n",
       "    </tr>\n",
       "    <tr>\n",
       "      <th>2</th>\n",
       "      <td>M</td>\n",
       "      <td>Morning</td>\n",
       "    </tr>\n",
       "    <tr>\n",
       "      <th>3</th>\n",
       "      <td>F</td>\n",
       "      <td>Evening</td>\n",
       "    </tr>\n",
       "    <tr>\n",
       "      <th>4</th>\n",
       "      <td>M</td>\n",
       "      <td>No</td>\n",
       "    </tr>\n",
       "    <tr>\n",
       "      <th>...</th>\n",
       "      <td>...</td>\n",
       "      <td>...</td>\n",
       "    </tr>\n",
       "    <tr>\n",
       "      <th>763</th>\n",
       "      <td>F</td>\n",
       "      <td>Morning</td>\n",
       "    </tr>\n",
       "    <tr>\n",
       "      <th>764</th>\n",
       "      <td>F</td>\n",
       "      <td>Morning</td>\n",
       "    </tr>\n",
       "    <tr>\n",
       "      <th>765</th>\n",
       "      <td>M</td>\n",
       "      <td>Evening</td>\n",
       "    </tr>\n",
       "    <tr>\n",
       "      <th>766</th>\n",
       "      <td>F</td>\n",
       "      <td>No</td>\n",
       "    </tr>\n",
       "    <tr>\n",
       "      <th>767</th>\n",
       "      <td>F</td>\n",
       "      <td>Both</td>\n",
       "    </tr>\n",
       "  </tbody>\n",
       "</table>\n",
       "<p>768 rows × 2 columns</p>\n",
       "</div>"
      ],
      "text/plain": [
       "    Sex Exercise\n",
       "0     M       No\n",
       "1     F  Evening\n",
       "2     M  Morning\n",
       "3     F  Evening\n",
       "4     M       No\n",
       "..   ..      ...\n",
       "763   F  Morning\n",
       "764   F  Morning\n",
       "765   M  Evening\n",
       "766   F       No\n",
       "767   F     Both\n",
       "\n",
       "[768 rows x 2 columns]"
      ]
     },
     "execution_count": 23,
     "metadata": {},
     "output_type": "execute_result"
    }
   ],
   "source": [
    "# TODO\n",
    "df[nominal]"
   ]
  },
  {
   "cell_type": "code",
   "execution_count": 24,
   "id": "7e660397",
   "metadata": {},
   "outputs": [
    {
     "data": {
      "text/plain": [
       "0      0\n",
       "1      1\n",
       "2      0\n",
       "3      1\n",
       "4      0\n",
       "      ..\n",
       "763    1\n",
       "764    1\n",
       "765    0\n",
       "766    1\n",
       "767    1\n",
       "Name: Sex, Length: 768, dtype: int64"
      ]
     },
     "execution_count": 24,
     "metadata": {},
     "output_type": "execute_result"
    }
   ],
   "source": [
    "diz_sex= {'M':0, 'F':1}\n",
    "df['Sex']= df['Sex'].apply(lambda x: diz_sex[x])\n",
    "df['Sex']"
   ]
  },
  {
   "cell_type": "code",
   "execution_count": 25,
   "id": "7445c88c",
   "metadata": {},
   "outputs": [
    {
     "data": {
      "text/html": [
       "<div>\n",
       "<style scoped>\n",
       "    .dataframe tbody tr th:only-of-type {\n",
       "        vertical-align: middle;\n",
       "    }\n",
       "\n",
       "    .dataframe tbody tr th {\n",
       "        vertical-align: top;\n",
       "    }\n",
       "\n",
       "    .dataframe thead th {\n",
       "        text-align: right;\n",
       "    }\n",
       "</style>\n",
       "<table border=\"1\" class=\"dataframe\">\n",
       "  <thead>\n",
       "    <tr style=\"text-align: right;\">\n",
       "      <th></th>\n",
       "      <th>Pregnancies</th>\n",
       "      <th>Sex</th>\n",
       "      <th>Glucose</th>\n",
       "      <th>BloodPressure</th>\n",
       "      <th>SkinThickness</th>\n",
       "      <th>Insulin</th>\n",
       "      <th>BMI</th>\n",
       "      <th>DiabetesPedigreeFunction</th>\n",
       "      <th>Age</th>\n",
       "      <th>CalorieIntake</th>\n",
       "      <th>SleepDuration</th>\n",
       "    </tr>\n",
       "  </thead>\n",
       "  <tbody>\n",
       "    <tr>\n",
       "      <th>0</th>\n",
       "      <td>0</td>\n",
       "      <td>0</td>\n",
       "      <td>148</td>\n",
       "      <td>72</td>\n",
       "      <td>35</td>\n",
       "      <td>0</td>\n",
       "      <td>33.6</td>\n",
       "      <td>0.627</td>\n",
       "      <td>50</td>\n",
       "      <td>2508.300000</td>\n",
       "      <td>6</td>\n",
       "    </tr>\n",
       "    <tr>\n",
       "      <th>1</th>\n",
       "      <td>1</td>\n",
       "      <td>1</td>\n",
       "      <td>85</td>\n",
       "      <td>66</td>\n",
       "      <td>29</td>\n",
       "      <td>0</td>\n",
       "      <td>26.6</td>\n",
       "      <td>0.351</td>\n",
       "      <td>31</td>\n",
       "      <td>2760.000000</td>\n",
       "      <td>8</td>\n",
       "    </tr>\n",
       "    <tr>\n",
       "      <th>2</th>\n",
       "      <td>0</td>\n",
       "      <td>0</td>\n",
       "      <td>183</td>\n",
       "      <td>64</td>\n",
       "      <td>0</td>\n",
       "      <td>0</td>\n",
       "      <td>23.3</td>\n",
       "      <td>0.672</td>\n",
       "      <td>32</td>\n",
       "      <td>6480.000000</td>\n",
       "      <td>8</td>\n",
       "    </tr>\n",
       "    <tr>\n",
       "      <th>3</th>\n",
       "      <td>1</td>\n",
       "      <td>1</td>\n",
       "      <td>89</td>\n",
       "      <td>66</td>\n",
       "      <td>23</td>\n",
       "      <td>94</td>\n",
       "      <td>28.1</td>\n",
       "      <td>0.167</td>\n",
       "      <td>21</td>\n",
       "      <td>3639.595352</td>\n",
       "      <td>8</td>\n",
       "    </tr>\n",
       "    <tr>\n",
       "      <th>4</th>\n",
       "      <td>0</td>\n",
       "      <td>0</td>\n",
       "      <td>137</td>\n",
       "      <td>40</td>\n",
       "      <td>35</td>\n",
       "      <td>168</td>\n",
       "      <td>43.1</td>\n",
       "      <td>2.288</td>\n",
       "      <td>33</td>\n",
       "      <td>1970.000000</td>\n",
       "      <td>9</td>\n",
       "    </tr>\n",
       "    <tr>\n",
       "      <th>...</th>\n",
       "      <td>...</td>\n",
       "      <td>...</td>\n",
       "      <td>...</td>\n",
       "      <td>...</td>\n",
       "      <td>...</td>\n",
       "      <td>...</td>\n",
       "      <td>...</td>\n",
       "      <td>...</td>\n",
       "      <td>...</td>\n",
       "      <td>...</td>\n",
       "      <td>...</td>\n",
       "    </tr>\n",
       "    <tr>\n",
       "      <th>763</th>\n",
       "      <td>3</td>\n",
       "      <td>1</td>\n",
       "      <td>101</td>\n",
       "      <td>76</td>\n",
       "      <td>48</td>\n",
       "      <td>180</td>\n",
       "      <td>32.9</td>\n",
       "      <td>0.171</td>\n",
       "      <td>63</td>\n",
       "      <td>2860.000000</td>\n",
       "      <td>6</td>\n",
       "    </tr>\n",
       "    <tr>\n",
       "      <th>764</th>\n",
       "      <td>2</td>\n",
       "      <td>1</td>\n",
       "      <td>122</td>\n",
       "      <td>70</td>\n",
       "      <td>27</td>\n",
       "      <td>0</td>\n",
       "      <td>36.8</td>\n",
       "      <td>0.340</td>\n",
       "      <td>27</td>\n",
       "      <td>3320.000000</td>\n",
       "      <td>7</td>\n",
       "    </tr>\n",
       "    <tr>\n",
       "      <th>765</th>\n",
       "      <td>0</td>\n",
       "      <td>0</td>\n",
       "      <td>121</td>\n",
       "      <td>72</td>\n",
       "      <td>23</td>\n",
       "      <td>112</td>\n",
       "      <td>26.2</td>\n",
       "      <td>0.245</td>\n",
       "      <td>30</td>\n",
       "      <td>3453.000000</td>\n",
       "      <td>4</td>\n",
       "    </tr>\n",
       "    <tr>\n",
       "      <th>766</th>\n",
       "      <td>1</td>\n",
       "      <td>1</td>\n",
       "      <td>126</td>\n",
       "      <td>60</td>\n",
       "      <td>0</td>\n",
       "      <td>0</td>\n",
       "      <td>30.1</td>\n",
       "      <td>0.349</td>\n",
       "      <td>47</td>\n",
       "      <td>8850.000000</td>\n",
       "      <td>8</td>\n",
       "    </tr>\n",
       "    <tr>\n",
       "      <th>767</th>\n",
       "      <td>1</td>\n",
       "      <td>1</td>\n",
       "      <td>93</td>\n",
       "      <td>70</td>\n",
       "      <td>31</td>\n",
       "      <td>0</td>\n",
       "      <td>30.4</td>\n",
       "      <td>0.315</td>\n",
       "      <td>23</td>\n",
       "      <td>2620.000000</td>\n",
       "      <td>8</td>\n",
       "    </tr>\n",
       "  </tbody>\n",
       "</table>\n",
       "<p>768 rows × 11 columns</p>\n",
       "</div>"
      ],
      "text/plain": [
       "     Pregnancies  Sex  Glucose  BloodPressure  SkinThickness  Insulin   BMI  \\\n",
       "0              0    0      148             72             35        0  33.6   \n",
       "1              1    1       85             66             29        0  26.6   \n",
       "2              0    0      183             64              0        0  23.3   \n",
       "3              1    1       89             66             23       94  28.1   \n",
       "4              0    0      137             40             35      168  43.1   \n",
       "..           ...  ...      ...            ...            ...      ...   ...   \n",
       "763            3    1      101             76             48      180  32.9   \n",
       "764            2    1      122             70             27        0  36.8   \n",
       "765            0    0      121             72             23      112  26.2   \n",
       "766            1    1      126             60              0        0  30.1   \n",
       "767            1    1       93             70             31        0  30.4   \n",
       "\n",
       "     DiabetesPedigreeFunction  Age  CalorieIntake  SleepDuration  \n",
       "0                       0.627   50    2508.300000              6  \n",
       "1                       0.351   31    2760.000000              8  \n",
       "2                       0.672   32    6480.000000              8  \n",
       "3                       0.167   21    3639.595352              8  \n",
       "4                       2.288   33    1970.000000              9  \n",
       "..                        ...  ...            ...            ...  \n",
       "763                     0.171   63    2860.000000              6  \n",
       "764                     0.340   27    3320.000000              7  \n",
       "765                     0.245   30    3453.000000              4  \n",
       "766                     0.349   47    8850.000000              8  \n",
       "767                     0.315   23    2620.000000              8  \n",
       "\n",
       "[768 rows x 11 columns]"
      ]
     },
     "execution_count": 25,
     "metadata": {},
     "output_type": "execute_result"
    }
   ],
   "source": [
    "col=['Exercise']\n",
    "x_t= df.drop(['Outcome'], axis=1)\n",
    "y_t= df.Outcome\n",
    "enc=OneHotEncoder()\n",
    "encoded=enc.fit_transform(x_t[col]).toarray()\n",
    "x_encoded= pd.DataFrame(encoded, columns=enc.get_feature_names_out(col))\n",
    "x= pd.concat([x_t, x_encoded], axis=1)\n",
    "x_t=x_t.drop(col, axis=1)\n",
    "x_t"
   ]
  },
  {
   "cell_type": "markdown",
   "id": "26a0ffc0",
   "metadata": {},
   "source": [
    "# 4. Carry out a **classification analysis** aimed at predicting the \"Outcome\" value considering the following setting\n",
    "- Apply a 10-fold cross-validation procedure on the dataset to identify the most suitable classifier among the following:\n",
    "    - DecisionTree classifier (maximum depth equal to 3)\n",
    "    - KNearestNeighbor classifier (default params)\n",
    "    - RandomForest classifier (default parameters) after rebalancing with RandomOverSampler \n",
    "- Report and discuss the results, motivating the choice of the most suitable model\n"
   ]
  },
  {
   "cell_type": "code",
   "execution_count": 26,
   "id": "3b64572e",
   "metadata": {},
   "outputs": [],
   "source": [
    "# TODO\n",
    "def eval_cross_validation(pipeline, X, y):\n",
    "    list_df = []\n",
    "    list_accuracy = []\n",
    "    for train, val in skf.split(X, y):\n",
    "        # fit and predict using pipeline\n",
    "        X_tr = X.values[train]#9 k-1\n",
    "        y_tr = y.values[train]\n",
    "        X_val = X.values[val]#1\n",
    "        y_val = y.values[val]\n",
    "        pipeline.fit(X_tr,y_tr)\n",
    "        y_pred = pipeline.predict(X_val)\n",
    "        # compute classification report\n",
    "        cr = classification_report(y_val, y_pred, output_dict = True, zero_division = np.nan)\n",
    "        # store accuracy\n",
    "        list_accuracy.append(cr['accuracy'])\n",
    "        # store per-class metrics as a dataframe\n",
    "        df = pd.DataFrame({k:v for k,v in cr.items() if k!='accuracy'})\n",
    "        list_df.append(df)\n",
    "    \n",
    "    # compute average per-class metrics    \n",
    "    df_concat = pd.concat(list_df)\n",
    "    by_row_index = df_concat.groupby(df_concat.index)\n",
    "    df_avg = by_row_index.mean().round(3)\n",
    "\n",
    "    # compute average accuracy\n",
    "    accuracy_avg = np.mean(list_accuracy)\n",
    "    \n",
    "    return df_avg, accuracy_avg"
   ]
  },
  {
   "cell_type": "code",
   "execution_count": 27,
   "id": "e9a9e967",
   "metadata": {},
   "outputs": [],
   "source": [
    "from sklearn.metrics import classification_report, ConfusionMatrixDisplay, make_scorer, recall_score, f1_score, accuracy_score\n",
    "from sklearn.model_selection import cross_val_score, StratifiedKFold, cross_val_predict\n",
    "skf = StratifiedKFold(n_splits=10, shuffle=True, random_state=123)"
   ]
  },
  {
   "cell_type": "code",
   "execution_count": 28,
   "id": "62281005",
   "metadata": {},
   "outputs": [
    {
     "name": "stdout",
     "output_type": "stream",
     "text": [
      "accuracy 0.9544258373205741\n"
     ]
    },
    {
     "data": {
      "text/html": [
       "<div>\n",
       "<style scoped>\n",
       "    .dataframe tbody tr th:only-of-type {\n",
       "        vertical-align: middle;\n",
       "    }\n",
       "\n",
       "    .dataframe tbody tr th {\n",
       "        vertical-align: top;\n",
       "    }\n",
       "\n",
       "    .dataframe thead th {\n",
       "        text-align: right;\n",
       "    }\n",
       "</style>\n",
       "<table border=\"1\" class=\"dataframe\">\n",
       "  <thead>\n",
       "    <tr style=\"text-align: right;\">\n",
       "      <th></th>\n",
       "      <th>0</th>\n",
       "      <th>1</th>\n",
       "      <th>macro avg</th>\n",
       "      <th>weighted avg</th>\n",
       "    </tr>\n",
       "  </thead>\n",
       "  <tbody>\n",
       "    <tr>\n",
       "      <th>f1-score</th>\n",
       "      <td>0.966</td>\n",
       "      <td>0.931</td>\n",
       "      <td>0.948</td>\n",
       "      <td>0.954</td>\n",
       "    </tr>\n",
       "    <tr>\n",
       "      <th>precision</th>\n",
       "      <td>0.940</td>\n",
       "      <td>0.989</td>\n",
       "      <td>0.965</td>\n",
       "      <td>0.957</td>\n",
       "    </tr>\n",
       "    <tr>\n",
       "      <th>recall</th>\n",
       "      <td>0.994</td>\n",
       "      <td>0.881</td>\n",
       "      <td>0.937</td>\n",
       "      <td>0.954</td>\n",
       "    </tr>\n",
       "    <tr>\n",
       "      <th>support</th>\n",
       "      <td>50.000</td>\n",
       "      <td>26.800</td>\n",
       "      <td>76.800</td>\n",
       "      <td>76.800</td>\n",
       "    </tr>\n",
       "  </tbody>\n",
       "</table>\n",
       "</div>"
      ],
      "text/plain": [
       "                0       1  macro avg  weighted avg\n",
       "f1-score    0.966   0.931      0.948         0.954\n",
       "precision   0.940   0.989      0.965         0.957\n",
       "recall      0.994   0.881      0.937         0.954\n",
       "support    50.000  26.800     76.800        76.800"
      ]
     },
     "metadata": {},
     "output_type": "display_data"
    },
    {
     "data": {
      "image/png": "[encoded data removed]",
      "text/plain": [
       "<Figure size 640x480 with 2 Axes>"
      ]
     },
     "metadata": {},
     "output_type": "display_data"
    }
   ],
   "source": [
    "estimators = [('missing', SimpleImputer(missing_values=np.nan, strategy='most_frequent')),\n",
    "              ('scaler',StandardScaler()),\n",
    "              ('clf', DecisionTreeClassifier(random_state=123, max_depth=3))]\n",
    "pipe_dt = Pipeline(estimators)\n",
    "df_metrics, acc = eval_cross_validation(pipe_dt, x_t, y_t)\n",
    "\n",
    "print('accuracy',acc)\n",
    "display(df_metrics)\n",
    "y_pred = cross_val_predict(pipe_dt, x_t, y_t, cv=skf)\n",
    "ConfusionMatrixDisplay.from_predictions(y_t, y_pred)\n",
    "plt.show()"
   ]
  },
  {
   "cell_type": "code",
   "execution_count": 29,
   "id": "9f55a32b",
   "metadata": {},
   "outputs": [
    {
     "data": {
      "text/plain": [
       "(array([0.94117647, 0.89795918, 0.94117647, 0.94117647, 0.98113208,\n",
       "        0.89795918, 0.94117647, 0.89795918, 0.96      , 0.90566038]),\n",
       " 0.9305375886203539)"
      ]
     },
     "execution_count": 29,
     "metadata": {},
     "output_type": "execute_result"
    }
   ],
   "source": [
    "dt = cross_val_score(pipe_dt, x_t, y_t, scoring = make_scorer(f1_score, pos_label=1), cv = skf)\n",
    "dt, dt.mean()"
   ]
  },
  {
   "cell_type": "code",
   "execution_count": 30,
   "id": "11c70c7c",
   "metadata": {},
   "outputs": [
    {
     "name": "stdout",
     "output_type": "stream",
     "text": [
      "accuracy 0.8697710184552289\n"
     ]
    },
    {
     "data": {
      "text/html": [
       "<div>\n",
       "<style scoped>\n",
       "    .dataframe tbody tr th:only-of-type {\n",
       "        vertical-align: middle;\n",
       "    }\n",
       "\n",
       "    .dataframe tbody tr th {\n",
       "        vertical-align: top;\n",
       "    }\n",
       "\n",
       "    .dataframe thead th {\n",
       "        text-align: right;\n",
       "    }\n",
       "</style>\n",
       "<table border=\"1\" class=\"dataframe\">\n",
       "  <thead>\n",
       "    <tr style=\"text-align: right;\">\n",
       "      <th></th>\n",
       "      <th>0</th>\n",
       "      <th>1</th>\n",
       "      <th>macro avg</th>\n",
       "      <th>weighted avg</th>\n",
       "    </tr>\n",
       "  </thead>\n",
       "  <tbody>\n",
       "    <tr>\n",
       "      <th>f1-score</th>\n",
       "      <td>0.905</td>\n",
       "      <td>0.792</td>\n",
       "      <td>0.848</td>\n",
       "      <td>0.866</td>\n",
       "    </tr>\n",
       "    <tr>\n",
       "      <th>precision</th>\n",
       "      <td>0.864</td>\n",
       "      <td>0.892</td>\n",
       "      <td>0.878</td>\n",
       "      <td>0.874</td>\n",
       "    </tr>\n",
       "    <tr>\n",
       "      <th>recall</th>\n",
       "      <td>0.952</td>\n",
       "      <td>0.717</td>\n",
       "      <td>0.834</td>\n",
       "      <td>0.870</td>\n",
       "    </tr>\n",
       "    <tr>\n",
       "      <th>support</th>\n",
       "      <td>50.000</td>\n",
       "      <td>26.800</td>\n",
       "      <td>76.800</td>\n",
       "      <td>76.800</td>\n",
       "    </tr>\n",
       "  </tbody>\n",
       "</table>\n",
       "</div>"
      ],
      "text/plain": [
       "                0       1  macro avg  weighted avg\n",
       "f1-score    0.905   0.792      0.848         0.866\n",
       "precision   0.864   0.892      0.878         0.874\n",
       "recall      0.952   0.717      0.834         0.870\n",
       "support    50.000  26.800     76.800        76.800"
      ]
     },
     "metadata": {},
     "output_type": "display_data"
    },
    {
     "data": {
      "image/png": "[encoded data removed]",
      "text/plain": [
       "<Figure size 640x480 with 2 Axes>"
      ]
     },
     "metadata": {},
     "output_type": "display_data"
    }
   ],
   "source": [
    "estimators = [('missing', SimpleImputer(missing_values=np.nan, strategy='most_frequent')),\n",
    "              ('scaler',StandardScaler()),\n",
    "              ('clf', KNeighborsClassifier())]\n",
    "pipe_knn = Pipeline(estimators)\n",
    "df_metrics, acc = eval_cross_validation(pipe_knn, x_t, y_t)\n",
    "\n",
    "print('accuracy',acc)\n",
    "display(df_metrics)\n",
    "y_pred = cross_val_predict(pipe_knn, x_t, y_t, cv=skf)\n",
    "ConfusionMatrixDisplay.from_predictions(y_t, y_pred)\n",
    "plt.show()"
   ]
  },
  {
   "cell_type": "code",
   "execution_count": 31,
   "id": "409c58ee",
   "metadata": {},
   "outputs": [
    {
     "data": {
      "text/plain": [
       "(array([0.76595745, 0.72340426, 0.84      , 0.77272727, 0.86792453,\n",
       "        0.73913043, 0.84      , 0.8       , 0.80851064, 0.76      ]),\n",
       " 0.7917654576237301)"
      ]
     },
     "execution_count": 31,
     "metadata": {},
     "output_type": "execute_result"
    }
   ],
   "source": [
    "knn = cross_val_score(pipe_knn, x_t, y_t, scoring = make_scorer(f1_score, pos_label=1), cv = skf)\n",
    "knn, knn.mean()"
   ]
  },
  {
   "cell_type": "code",
   "execution_count": 32,
   "id": "bb1ecd04",
   "metadata": {},
   "outputs": [
    {
     "name": "stdout",
     "output_type": "stream",
     "text": [
      "accuracy 0.978\n"
     ]
    },
    {
     "data": {
      "text/html": [
       "<div>\n",
       "<style scoped>\n",
       "    .dataframe tbody tr th:only-of-type {\n",
       "        vertical-align: middle;\n",
       "    }\n",
       "\n",
       "    .dataframe tbody tr th {\n",
       "        vertical-align: top;\n",
       "    }\n",
       "\n",
       "    .dataframe thead th {\n",
       "        text-align: right;\n",
       "    }\n",
       "</style>\n",
       "<table border=\"1\" class=\"dataframe\">\n",
       "  <thead>\n",
       "    <tr style=\"text-align: right;\">\n",
       "      <th></th>\n",
       "      <th>0</th>\n",
       "      <th>1</th>\n",
       "      <th>macro avg</th>\n",
       "      <th>weighted avg</th>\n",
       "    </tr>\n",
       "  </thead>\n",
       "  <tbody>\n",
       "    <tr>\n",
       "      <th>f1-score</th>\n",
       "      <td>0.978</td>\n",
       "      <td>0.978</td>\n",
       "      <td>0.978</td>\n",
       "      <td>0.978</td>\n",
       "    </tr>\n",
       "    <tr>\n",
       "      <th>precision</th>\n",
       "      <td>0.969</td>\n",
       "      <td>0.988</td>\n",
       "      <td>0.978</td>\n",
       "      <td>0.978</td>\n",
       "    </tr>\n",
       "    <tr>\n",
       "      <th>recall</th>\n",
       "      <td>0.988</td>\n",
       "      <td>0.968</td>\n",
       "      <td>0.978</td>\n",
       "      <td>0.978</td>\n",
       "    </tr>\n",
       "    <tr>\n",
       "      <th>support</th>\n",
       "      <td>50.000</td>\n",
       "      <td>50.000</td>\n",
       "      <td>100.000</td>\n",
       "      <td>100.000</td>\n",
       "    </tr>\n",
       "  </tbody>\n",
       "</table>\n",
       "</div>"
      ],
      "text/plain": [
       "                0       1  macro avg  weighted avg\n",
       "f1-score    0.978   0.978      0.978         0.978\n",
       "precision   0.969   0.988      0.978         0.978\n",
       "recall      0.988   0.968      0.978         0.978\n",
       "support    50.000  50.000    100.000       100.000"
      ]
     },
     "metadata": {},
     "output_type": "display_data"
    },
    {
     "data": {
      "image/png": "[encoded data removed]",
      "text/plain": [
       "<Figure size 640x480 with 2 Axes>"
      ]
     },
     "metadata": {},
     "output_type": "display_data"
    }
   ],
   "source": [
    "sampler=RandomOverSampler(random_state=42)\n",
    "x_ROS, y_ROS= sampler.fit_resample(x_t,y_t)\n",
    "\n",
    "estimators = [('missing', SimpleImputer(missing_values=np.nan, strategy='most_frequent')),\n",
    "              ('scaler',StandardScaler()),\n",
    "              ('clf', RandomForestClassifier())]\n",
    "pipe_rf = Pipeline(estimators)\n",
    "df_metrics, acc = eval_cross_validation(pipe_rf, x_ROS, y_ROS)\n",
    "\n",
    "print('accuracy',acc)\n",
    "display(df_metrics)\n",
    "y_pred = cross_val_predict(pipe_rf, x_ROS, y_ROS, cv=skf)\n",
    "ConfusionMatrixDisplay.from_predictions(y_ROS, y_pred)\n",
    "plt.show()"
   ]
  },
  {
   "cell_type": "code",
   "execution_count": 33,
   "id": "00c7e906",
   "metadata": {},
   "outputs": [
    {
     "data": {
      "text/plain": [
       "(array([0.98      , 1.        , 0.96969697, 0.98989899, 0.95833333,\n",
       "        0.98      , 0.96969697, 0.96969697, 0.96      , 0.98989899]),\n",
       " 0.9767222222222223)"
      ]
     },
     "execution_count": 33,
     "metadata": {},
     "output_type": "execute_result"
    }
   ],
   "source": [
    "rf=cross_val_score(pipe_rf, x_ROS, y_ROS, scoring = make_scorer(f1_score, pos_label=1), cv = skf)\n",
    "rf, rf.mean()"
   ]
  },
  {
   "cell_type": "code",
   "execution_count": 34,
   "id": "5317d2a4",
   "metadata": {},
   "outputs": [
    {
     "data": {
      "text/html": [
       "<div>\n",
       "<style scoped>\n",
       "    .dataframe tbody tr th:only-of-type {\n",
       "        vertical-align: middle;\n",
       "    }\n",
       "\n",
       "    .dataframe tbody tr th {\n",
       "        vertical-align: top;\n",
       "    }\n",
       "\n",
       "    .dataframe thead th {\n",
       "        text-align: right;\n",
       "    }\n",
       "</style>\n",
       "<table border=\"1\" class=\"dataframe\">\n",
       "  <thead>\n",
       "    <tr style=\"text-align: right;\">\n",
       "      <th></th>\n",
       "      <th>dt</th>\n",
       "      <th>knn</th>\n",
       "      <th>random_forest</th>\n",
       "    </tr>\n",
       "  </thead>\n",
       "  <tbody>\n",
       "    <tr>\n",
       "      <th>0</th>\n",
       "      <td>0.941176</td>\n",
       "      <td>0.765957</td>\n",
       "      <td>0.980000</td>\n",
       "    </tr>\n",
       "    <tr>\n",
       "      <th>1</th>\n",
       "      <td>0.897959</td>\n",
       "      <td>0.723404</td>\n",
       "      <td>1.000000</td>\n",
       "    </tr>\n",
       "    <tr>\n",
       "      <th>2</th>\n",
       "      <td>0.941176</td>\n",
       "      <td>0.840000</td>\n",
       "      <td>0.969697</td>\n",
       "    </tr>\n",
       "    <tr>\n",
       "      <th>3</th>\n",
       "      <td>0.941176</td>\n",
       "      <td>0.772727</td>\n",
       "      <td>0.989899</td>\n",
       "    </tr>\n",
       "    <tr>\n",
       "      <th>4</th>\n",
       "      <td>0.981132</td>\n",
       "      <td>0.867925</td>\n",
       "      <td>0.958333</td>\n",
       "    </tr>\n",
       "    <tr>\n",
       "      <th>5</th>\n",
       "      <td>0.897959</td>\n",
       "      <td>0.739130</td>\n",
       "      <td>0.980000</td>\n",
       "    </tr>\n",
       "    <tr>\n",
       "      <th>6</th>\n",
       "      <td>0.941176</td>\n",
       "      <td>0.840000</td>\n",
       "      <td>0.969697</td>\n",
       "    </tr>\n",
       "    <tr>\n",
       "      <th>7</th>\n",
       "      <td>0.897959</td>\n",
       "      <td>0.800000</td>\n",
       "      <td>0.969697</td>\n",
       "    </tr>\n",
       "    <tr>\n",
       "      <th>8</th>\n",
       "      <td>0.960000</td>\n",
       "      <td>0.808511</td>\n",
       "      <td>0.960000</td>\n",
       "    </tr>\n",
       "    <tr>\n",
       "      <th>9</th>\n",
       "      <td>0.905660</td>\n",
       "      <td>0.760000</td>\n",
       "      <td>0.989899</td>\n",
       "    </tr>\n",
       "  </tbody>\n",
       "</table>\n",
       "</div>"
      ],
      "text/plain": [
       "         dt       knn  random_forest\n",
       "0  0.941176  0.765957       0.980000\n",
       "1  0.897959  0.723404       1.000000\n",
       "2  0.941176  0.840000       0.969697\n",
       "3  0.941176  0.772727       0.989899\n",
       "4  0.981132  0.867925       0.958333\n",
       "5  0.897959  0.739130       0.980000\n",
       "6  0.941176  0.840000       0.969697\n",
       "7  0.897959  0.800000       0.969697\n",
       "8  0.960000  0.808511       0.960000\n",
       "9  0.905660  0.760000       0.989899"
      ]
     },
     "execution_count": 34,
     "metadata": {},
     "output_type": "execute_result"
    }
   ],
   "source": [
    "evaluation_results= pd.DataFrame({'dt': dt, 'knn': knn, 'random_forest': rf})\n",
    "evaluation_results"
   ]
  },
  {
   "cell_type": "code",
   "execution_count": 35,
   "id": "94cdd8ed",
   "metadata": {},
   "outputs": [
    {
     "data": {
      "text/plain": [
       "Text(0, 0.5, 'f-score')"
      ]
     },
     "execution_count": 35,
     "metadata": {},
     "output_type": "execute_result"
    },
    {
     "data": {
      "image/png": "[encoded data removed]",
      "text/plain": [
       "<Figure size 640x480 with 1 Axes>"
      ]
     },
     "metadata": {},
     "output_type": "display_data"
    }
   ],
   "source": [
    "#to visualize the results\n",
    "bplot=evaluation_results.boxplot()\n",
    "bplot.set_ylabel('f-score')"
   ]
  },
  {
   "cell_type": "markdown",
   "id": "9210075e",
   "metadata": {},
   "source": [
    "From the results obtained, random forest pipeline seems to be the most suitable model."
   ]
  },
  {
   "cell_type": "code",
   "execution_count": 36,
   "id": "249fc490",
   "metadata": {},
   "outputs": [
    {
     "name": "stdout",
     "output_type": "stream",
     "text": [
      "WilcoxonResult(statistic=0.0, pvalue=0.001953125)\n",
      "WilcoxonResult(statistic=1.0, pvalue=0.010792782163388177)\n",
      "WilcoxonResult(statistic=0.0, pvalue=0.001953125)\n"
     ]
    },
    {
     "name": "stderr",
     "output_type": "stream",
     "text": [
      "C:\\Users\\chiar\\anaconda3\\Lib\\site-packages\\scipy\\stats\\_morestats.py:4088: UserWarning: Exact p-value calculation does not work if there are zeros. Switching to normal approximation.\n",
      "  warnings.warn(\"Exact p-value calculation does not work if there are \"\n",
      "C:\\Users\\chiar\\anaconda3\\Lib\\site-packages\\scipy\\stats\\_morestats.py:4102: UserWarning: Sample size too small for normal approximation.\n",
      "  warnings.warn(\"Sample size too small for normal approximation.\")\n"
     ]
    }
   ],
   "source": [
    "#let's evaluate the statistics applying wilcoxon test\n",
    "from scipy.stats import wilcoxon\n",
    "print(wilcoxon(evaluation_results.dt, evaluation_results.knn))\n",
    "print(wilcoxon(evaluation_results.dt, evaluation_results.random_forest))\n",
    "print(wilcoxon(evaluation_results.random_forest, evaluation_results.knn))"
   ]
  },
  {
   "cell_type": "markdown",
   "id": "81b518cb",
   "metadata": {},
   "source": [
    "With a level of confidence alpha= 5%, we reject H0 (the samples do not belong to the same distribution), because the p-value<0.05 meaning that such an extreme outcome is not likely under the assumption of having H0 true."
   ]
  },
  {
   "cell_type": "markdown",
   "id": "8562efb0",
   "metadata": {},
   "source": [
    "# Exam Delivery\n",
    "- Save the current file \n",
    "- Click \"**Restart & Run All**\" and check consistency (no error, expected results)\n",
    "- Export using\n",
    "     - \"**File**\" --> \"**Download as**\" --> \"**HTML (.html)**\"\n",
    "- Rename the files as follows and upload in MS Teams Assignment\n",
    "     - HTML: *Surname_Name_StudentNumber.html*\n",
    "     - IPYNB: *Surname_Name_StudentNumber.ipynb* \n"
   ]
  }
 ],
 "metadata": {
  "kernelspec": {
   "display_name": "Python 3 (ipykernel)",
   "language": "python",
   "name": "python3"
  },
  "language_info": {
   "codemirror_mode": {
    "name": "ipython",
    "version": 3
   },
   "file_extension": ".py",
   "mimetype": "text/x-python",
   "name": "python",
   "nbconvert_exporter": "python",
   "pygments_lexer": "ipython3",
   "version": "3.11.5"
  }
 },
 "nbformat": 4,
 "nbformat_minor": 5
}
